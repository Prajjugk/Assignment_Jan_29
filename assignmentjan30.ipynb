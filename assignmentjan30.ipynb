{
 "cells": [
  {
   "cell_type": "markdown",
   "id": "3eb7dd96",
   "metadata": {},
   "source": [
    "1.Write a program to accept percentage from the user and display the grade according to the following criteria"
   ]
  },
  {
   "cell_type": "code",
   "execution_count": 14,
   "id": "1c16762c",
   "metadata": {},
   "outputs": [
    {
     "name": "stdout",
     "output_type": "stream",
     "text": [
      "Enter the percentage of marks 91\n",
      "Percentage : 91% , Grade : A grade\n"
     ]
    }
   ],
   "source": [
    "User = int(input(\"Enter the percentage of marks \"))\n",
    "\n",
    "def Calculate_grade(User):\n",
    "    \n",
    "    if (User>90):\n",
    "        return \"A grade\"\n",
    "\n",
    "    elif (80<User<=90):\n",
    "        return \"B grade\"\n",
    "\n",
    "    elif (60<=User<=80):\n",
    "        return \"C grade\"\n",
    "\n",
    "    else:\n",
    "        return \"D grade\"\n",
    "    \n",
    "grade = Calculate_grade(User)\n",
    "print(f\"Percentage : {User}% , Grade : {grade}\")"
   ]
  },
  {
   "cell_type": "code",
   "execution_count": null,
   "id": "cd574995",
   "metadata": {},
   "outputs": [],
   "source": []
  },
  {
   "cell_type": "markdown",
   "id": "ff6abc63",
   "metadata": {},
   "source": [
    "2.Write a program to accept the cost price of a bike and display the road tax to be paid according to the following criteria."
   ]
  },
  {
   "cell_type": "code",
   "execution_count": 5,
   "id": "95947847",
   "metadata": {},
   "outputs": [
    {
     "name": "stdout",
     "output_type": "stream",
     "text": [
      "Enter the cost price 150000\n",
      "Cost price is 150000, and the tax to be paid is 7500.0\n"
     ]
    }
   ],
   "source": [
    "Cost_price = int(input(\"Enter the cost price \"))\n",
    "\n",
    "def Road_tax(Cost_price):\n",
    "    if Cost_price<0:\n",
    "        return \"Invalid input\"\n",
    "    \n",
    "    \n",
    "    if (Cost_price<100000):\n",
    "        road_tax=0.15*Cost_price\n",
    "    \n",
    "    elif (50000<Cost_price<=100000):\n",
    "        road_tax=0.1*Cost_price\n",
    "    \n",
    "    else:\n",
    "        road_tax=0.05*Cost_price\n",
    "        \n",
    "    return road_tax\n",
    "    \n",
    "Tax = Road_tax(Cost_price)    \n",
    "print(f\"Cost price is {Cost_price}, and the tax to be paid is {Tax}\")"
   ]
  },
  {
   "cell_type": "code",
   "execution_count": null,
   "id": "aba42728",
   "metadata": {},
   "outputs": [],
   "source": []
  },
  {
   "cell_type": "markdown",
   "id": "8942e829",
   "metadata": {},
   "source": [
    "3.Accept any city from the user and display monuments of the city."
   ]
  },
  {
   "cell_type": "code",
   "execution_count": 3,
   "id": "de4b3598",
   "metadata": {},
   "outputs": [
    {
     "name": "stdout",
     "output_type": "stream",
     "text": [
      "Choose a city name between Delhi,Agra and Jaipur delhi\n",
      "City :DELHI has the famous monument called Red Fort\n"
     ]
    }
   ],
   "source": [
    "User = input(\"Choose a city name between Delhi,Agra and Jaipur \")\n",
    "\n",
    "User1=User.upper()\n",
    "\n",
    "def City_monuments(User1):\n",
    "    \n",
    "    if (User1==\"DELHI\"):\n",
    "        return \"Red Fort\"\n",
    "\n",
    "    elif (User1==\"AGRA\"):\n",
    "        return \"Taj Mahal\"\n",
    "\n",
    "\n",
    "    else:\n",
    "        return \"Jaipur\"\n",
    "    \n",
    "City = City_monuments(User1)\n",
    "\n",
    "print(f\"City :{User1} has the famous monument called {City}\")\n",
    "    \n",
    "    "
   ]
  },
  {
   "cell_type": "code",
   "execution_count": null,
   "id": "aa6ecfbc",
   "metadata": {},
   "outputs": [],
   "source": []
  },
  {
   "cell_type": "markdown",
   "id": "3f00eb44",
   "metadata": {},
   "source": [
    "4.Check how many times a given number can be divided by 3 before it is less than or equal to 10."
   ]
  },
  {
   "cell_type": "code",
   "execution_count": 9,
   "id": "f072d0f8",
   "metadata": {},
   "outputs": [
    {
     "name": "stdout",
     "output_type": "stream",
     "text": [
      "Enter the number 99\n",
      "The number can be divided by 3 :'3' times before its less than or eqaul to 10\n"
     ]
    }
   ],
   "source": [
    "number  = int(input(\"Enter the number \"))\n",
    "\n",
    "count = 0\n",
    "\n",
    "while number>10:\n",
    "    number = number/3\n",
    "    count = count+1\n",
    "    \n",
    "print(f\"The number can be divided by 3 :'{count}' times before its less than or eqaul to 10\")"
   ]
  },
  {
   "cell_type": "code",
   "execution_count": null,
   "id": "6f2ed43f",
   "metadata": {},
   "outputs": [],
   "source": []
  },
  {
   "cell_type": "markdown",
   "id": "ee8ac7df",
   "metadata": {},
   "source": [
    "5.Why and when to use while loop in python gie a detailed description with example"
   ]
  },
  {
   "cell_type": "markdown",
   "id": "8d337acb",
   "metadata": {},
   "source": [
    "A while loop in Python is used for repeatedly executing a block of code as long as a specified condition is true. It's used when we need to perform a task repeatedly until a certain condition is met or becomes false."
   ]
  },
  {
   "cell_type": "code",
   "execution_count": 12,
   "id": "4e23b368",
   "metadata": {},
   "outputs": [
    {
     "name": "stdout",
     "output_type": "stream",
     "text": [
      "Enter a positive integer: -11\n",
      "Invalid input. Please enter a positive integer.\n",
      "Enter a positive integer: 10\n",
      "You entered a valid positive integer: 10\n"
     ]
    }
   ],
   "source": [
    "while True:\n",
    "    user_input = input(\"Enter a positive integer: \")\n",
    "    \n",
    "   \n",
    "    if user_input.isdigit() and int(user_input) > 0:\n",
    "        break \n",
    "    else:\n",
    "        print(\"Invalid input. Please enter a positive integer.\")\n",
    "\n",
    "print(f\"You entered a valid positive integer: {user_input}\")"
   ]
  },
  {
   "cell_type": "code",
   "execution_count": null,
   "id": "d74524e5",
   "metadata": {},
   "outputs": [],
   "source": []
  },
  {
   "cell_type": "markdown",
   "id": "659e66f2",
   "metadata": {},
   "source": [
    "6.Use nested while loop to print 3 different pattern."
   ]
  },
  {
   "cell_type": "code",
   "execution_count": 9,
   "id": "9ff46681",
   "metadata": {},
   "outputs": [
    {
     "name": "stdout",
     "output_type": "stream",
     "text": [
      "* \n",
      "* * \n",
      "* * * \n",
      "* * * * \n",
      "* * * * * \n"
     ]
    }
   ],
   "source": [
    "#1st pattern\n",
    "\n",
    "n = 5\n",
    "\n",
    "i = 1\n",
    "\n",
    "\n",
    "while i<=n:\n",
    "    j=1\n",
    "    while j<=i:\n",
    "        print(\"*\", end = \" \")\n",
    "        j = j+1\n",
    "    print()\n",
    "    i=i+1\n",
    "    "
   ]
  },
  {
   "cell_type": "code",
   "execution_count": 6,
   "id": "9ff4a84b",
   "metadata": {},
   "outputs": [
    {
     "name": "stdout",
     "output_type": "stream",
     "text": [
      "* * * * * \n",
      "* * * * * \n",
      "* * * * * \n",
      "* * * * * \n",
      "* * * * * \n"
     ]
    }
   ],
   "source": [
    "#pattern 2\n",
    "\n",
    "n=5\n",
    "\n",
    "i=1\n",
    "\n",
    "while i<=n:\n",
    "    j=1\n",
    "    while j<=n:\n",
    "        print(\"*\", end=\" \")\n",
    "        j=j+1\n",
    "        \n",
    "    print()\n",
    "    i=i+1"
   ]
  },
  {
   "cell_type": "code",
   "execution_count": 15,
   "id": "9fe504c1",
   "metadata": {},
   "outputs": [
    {
     "name": "stdout",
     "output_type": "stream",
     "text": [
      "* * * * * \n",
      "* * * * \n",
      "* * * \n",
      "* * \n",
      "* \n"
     ]
    }
   ],
   "source": [
    "n = 5  # Number of rows\n",
    "\n",
    "i = n\n",
    "while i >= 1:\n",
    "    j = 1\n",
    "    while j <= i:\n",
    "        print(\"*\", end=\" \")\n",
    "        j += 1\n",
    "    print()\n",
    "    i -= 1"
   ]
  },
  {
   "cell_type": "code",
   "execution_count": null,
   "id": "a17a57f9",
   "metadata": {},
   "outputs": [],
   "source": []
  },
  {
   "cell_type": "markdown",
   "id": "e36d0071",
   "metadata": {},
   "source": [
    "7.Reverse a while loop to display numbers from 10 to 1."
   ]
  },
  {
   "cell_type": "code",
   "execution_count": 2,
   "id": "3d29696e",
   "metadata": {},
   "outputs": [
    {
     "name": "stdout",
     "output_type": "stream",
     "text": [
      "10\n",
      "9\n",
      "8\n",
      "7\n",
      "6\n",
      "5\n",
      "4\n",
      "3\n",
      "2\n",
      "1\n"
     ]
    }
   ],
   "source": [
    "n=10\n",
    "i=n\n",
    "\n",
    "while i>=1:\n",
    "    print(i)\n",
    "    i=i-1"
   ]
  },
  {
   "cell_type": "markdown",
   "id": "4cc1cf7a",
   "metadata": {},
   "source": []
  },
  {
   "cell_type": "markdown",
   "id": "777e9508",
   "metadata": {},
   "source": [
    "8.Reverse a while loop to display numbers from 10 to 1."
   ]
  },
  {
   "cell_type": "code",
   "execution_count": 1,
   "id": "8fe198c9",
   "metadata": {},
   "outputs": [
    {
     "name": "stdout",
     "output_type": "stream",
     "text": [
      "10\n",
      "9\n",
      "8\n",
      "7\n",
      "6\n",
      "5\n",
      "4\n",
      "3\n",
      "2\n",
      "1\n"
     ]
    }
   ],
   "source": [
    "n=10\n",
    "i=n\n",
    "\n",
    "while i>=1:\n",
    "    print(i)\n",
    "    i=i-1"
   ]
  },
  {
   "cell_type": "code",
   "execution_count": null,
   "id": "35400fcf",
   "metadata": {},
   "outputs": [],
   "source": []
  }
 ],
 "metadata": {
  "kernelspec": {
   "display_name": "Python 3 (ipykernel)",
   "language": "python",
   "name": "python3"
  },
  "language_info": {
   "codemirror_mode": {
    "name": "ipython",
    "version": 3
   },
   "file_extension": ".py",
   "mimetype": "text/x-python",
   "name": "python",
   "nbconvert_exporter": "python",
   "pygments_lexer": "ipython3",
   "version": "3.11.3"
  }
 },
 "nbformat": 4,
 "nbformat_minor": 5
}
